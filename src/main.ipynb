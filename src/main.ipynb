{
 "cells": [
  {
   "cell_type": "code",
   "execution_count": 43,
   "id": "e9dcadd8",
   "metadata": {},
   "outputs": [],
   "source": [
    "import numpy as np\n",
    "import pandas as pd\n",
    "import requests\n",
    "from bs4 import BeautifulSoup\n",
    "import matplotlib.pyplot as plt"
   ]
  },
  {
   "cell_type": "code",
   "execution_count": 95,
   "id": "83c273e4",
   "metadata": {},
   "outputs": [],
   "source": [
    "with open(\"../data/dataUsEtf.txt\") as f:\n",
    "    li = f.read().splitlines()\n",
    "    li = [ list(i.split(', ')) for i in li]\n",
    "    li = [ [i[0], i[1], 0, 0] for i in li]"
   ]
  },
  {
   "cell_type": "code",
   "execution_count": 96,
   "id": "a4cd1176",
   "metadata": {},
   "outputs": [],
   "source": [
    "for i, j in enumerate(li):\n",
    "    res = requests.get('https://www.bloomberg.co.jp/quote/'+ j[0] +':US')\n",
    "    # レスポンスの HTML から BeautifulSoup オブジェクトを作る\n",
    "    soup = BeautifulSoup(res.text, 'html.parser')\n",
    "    y = soup.find(\"div\", class_ = \"price\")\n",
    "    li[i][2] = y.get_text()\n",
    "    li[i][3] = int(li[i][1]) * float(li[i][2])"
   ]
  },
  {
   "cell_type": "code",
   "execution_count": 103,
   "id": "9f13c299",
   "metadata": {},
   "outputs": [
    {
     "data": {
      "text/plain": [
       "array([['IVV', '3', '425.760', '1277.28'],\n",
       "       ['QQQ', '3', '344.51', '1033.53'],\n",
       "       ['VWO', '6', '54.88', '329.28000000000003'],\n",
       "       ['VYM', '3', '106.86', '320.58'],\n",
       "       ['VXUS', '4', '67.50', '270.0'],\n",
       "       ['IEMG', '2', '67.3200', '134.64'],\n",
       "       ['VTWO', '1', '93.42', '93.42'],\n",
       "       ['VGK', '1', '70.35', '70.35'],\n",
       "       ['BND', '3', '85.60', '256.79999999999995'],\n",
       "       ['TLT', '3', '141.220', '423.65999999999997'],\n",
       "       ['LQD', '1', '133.180', '133.18'],\n",
       "       ['GLD', '2', '174.710', '349.42'],\n",
       "       ['GLDM', '1', '18.57', '18.57']], dtype='<U18')"
      ]
     },
     "execution_count": 103,
     "metadata": {},
     "output_type": "execute_result"
    }
   ],
   "source": [
    "li = np.array(li)\n",
    "li"
   ]
  },
  {
   "cell_type": "code",
   "execution_count": 105,
   "id": "d732c0e4",
   "metadata": {},
   "outputs": [],
   "source": [
    "x = li[:,3]\n",
    "y = li[:,0]"
   ]
  },
  {
   "cell_type": "code",
   "execution_count": 106,
   "id": "062da96c",
   "metadata": {},
   "outputs": [],
   "source": [
    "c_cycle=[\"#3498db\",\"#51a62d\",\"#1abc9c\",\"#9b59b6\",\"#f1c40f\",\n",
    "         \"#7f8c8d\",\"#34495e\",\"#446cb3\",\"#d24d57\",\"#27ae60\",\n",
    "         \"#663399\",\"#f7ca18\",\"#bdc3c7\",\"#2c3e50\",\"#d35400\",\n",
    "         \"#9b59b6\",\"#ecf0f1\",\"#ecef57\",\"#9a9a00\",\"#8a6b0e\"][:len(x)]"
   ]
  },
  {
   "cell_type": "code",
   "execution_count": 107,
   "id": "f0056286",
   "metadata": {},
   "outputs": [
    {
     "data": {
      "image/png": "[encoded data removed]",
      "text/plain": [
       "<Figure size 432x288 with 1 Axes>"
      ]
     },
     "metadata": {},
     "output_type": "display_data"
    }
   ],
   "source": [
    "plt.pie(x, labels=y, startangle=90, counterclock=False, labeldistance=None, colors=c_cycle)\n",
    "plt.legend(bbox_to_anchor=(1.05, 1), loc='upper left')\n",
    "plt.show()"
   ]
  },
  {
   "cell_type": "code",
   "execution_count": null,
   "id": "592e078c",
   "metadata": {},
   "outputs": [],
   "source": []
  }
 ],
 "metadata": {
  "kernelspec": {
   "display_name": "'Python Interactive'",
   "language": "python",
   "name": "6e3d0710-4027-4042-a392-ad33a6e7b365"
  },
  "language_info": {
   "codemirror_mode": {
    "name": "ipython",
    "version": 3
   },
   "file_extension": ".py",
   "mimetype": "text/x-python",
   "name": "python",
   "nbconvert_exporter": "python",
   "pygments_lexer": "ipython3",
   "version": "3.7.3"
  }
 },
 "nbformat": 4,
 "nbformat_minor": 5
}
